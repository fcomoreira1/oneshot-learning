{
 "cells": [
  {
   "cell_type": "code",
   "execution_count": 4,
   "metadata": {},
   "outputs": [],
   "source": [
    "import emnist\n",
    "import numpy as np\n",
    "import matplotlib.pyplot as plt\n",
    "import tensorflow as tf\n",
    "import tensorflow.keras as keras\n",
    "import methods as M\n",
    "import sklearn\n",
    "from sklearn.decomposition import PCA\n",
    "from sklearn.neighbors import KNeighborsClassifier\n",
    "from tensorflow.keras.layers import Input, Lambda, Conv2D, MaxPooling2D, BatchNormalization, Dense, Flatten, Activation, Dropout\n",
    "from tensorflow.keras.models import Sequential, Model\n",
    "from tensorflow.keras import backend as K\n",
    "%matplotlib inline"
   ]
  },
  {
   "cell_type": "code",
   "execution_count": 45,
   "metadata": {},
   "outputs": [
    {
     "name": "stdout",
     "output_type": "stream",
     "text": [
      "======= Loading emnist data ... =======\n",
      "Output shape:  [(96000, 28, 28), (96000,), (16800, 28, 28), (16800,)]\n",
      "Train labels:  [ 0  1  2  3  4  5  6  7  8  9 10 11 12 13 15 16 18 19 22 24 25 26 27 28\n",
      " 29 30 32 33 34 35 36 37 38 40 41 42 43 44 45 46]\n",
      "Test labels:  [14 17 20 21 23 31 39]\n",
      "======= Finished loading. =======\n"
     ]
    }
   ],
   "source": [
    "train_images, train_labels, oneshot_images, oneshot_labels, classify_images, classify_labels = M.get_emnist(40, 1, True, False)"
   ]
  },
  {
   "cell_type": "code",
   "execution_count": 34,
   "metadata": {},
   "outputs": [],
   "source": [
    "def get_image_by_label(label):\n",
    "    return train_images[np.random.choice(np.where(train_labels == label)[0], 1, False)[0]]"
   ]
  },
  {
   "cell_type": "code",
   "execution_count": 60,
   "metadata": {},
   "outputs": [],
   "source": [
    "def get_train_data(size):\n",
    "    targets = np.zeros((size,))\n",
    "    targets[size//2:] = 1\n",
    "    pairs = [np.zeros((size, 28, 28)) for _ in range(2)]\n",
    "    labels = np.unique(train_labels)\n",
    "    for i in range(size):\n",
    "        class1 = np.random.choice(labels, 1)[0]\n",
    "        class2 = class1\n",
    "        if i < size//2:\n",
    "            while class2 == class1:\n",
    "                class2 = np.random.choice(labels, 1)[0]\n",
    "        pairs[0][i] = get_image_by_label(class1)\n",
    "        pairs[1][i] = get_image_by_label(class2)\n",
    "    return pairs, targets"
   ]
  },
  {
   "cell_type": "code",
   "execution_count": 6,
   "metadata": {},
   "outputs": [],
   "source": [
    "def get_siamese_net_and_encoder(input_shape):\n",
    "    left_input = Input(input_shape)\n",
    "    right_input = Input(input_shape)\n",
    "    \n",
    "    encoder = Sequential()\n",
    "    encoder.add(Conv2D(16, (3, 3), input_shape=input_shape, activation='relu', kernel_regularizer='l2'))\n",
    "    encoder.add(BatchNormalization())\n",
    "    encoder.add(Activation('relu'))\n",
    "    encoder.add(MaxPooling2D(pool_size=2, strides=(2, 2)))\n",
    "    encoder.add(Dropout(0.25))\n",
    "    \n",
    "    encoder.add(Conv2D(32, (3, 3), kernel_regularizer='l2'))\n",
    "    encoder.add(BatchNormalization())\n",
    "    encoder.add(Activation('relu'))\n",
    "    encoder.add(MaxPooling2D(pool_size=2, strides=(2, 2)))\n",
    "    encoder.add(Dropout(0.25))\n",
    "    \n",
    "    encoder.add(Flatten())\n",
    "    \n",
    "    encoder.add(Dense(32, activation='sigmoid', kernel_regularizer='l2'))\n",
    "    \n",
    "    left_emb = encoder(left_input)\n",
    "    right_emb = encoder(right_input)\n",
    "    \n",
    "    L1_Layer = Lambda(lambda tensors: K.abs(tensors[0] - tensors[1]))\n",
    "    L1_Dist = L1_Layer([left_emb,right_emb])\n",
    "    OP = Dense(1, activation='sigmoid', kernel_regularizer='l2')(L1_Dist)\n",
    "    \n",
    "    siamese_net = Model(inputs=[left_input, right_input], outputs=OP)\n",
    "    \n",
    "    return siamese_net, encoder"
   ]
  },
  {
   "cell_type": "code",
   "execution_count": null,
   "metadata": {},
   "outputs": [],
   "source": [
    "def make_one_shot_task(N):\n",
    "    labels = np.unique(train_labels)\n",
    "    cats = np.random.choice(labels, N, replace=False)\n",
    "    _, w, h = train_images.shape\n",
    "    true_cat = cats[0]\n",
    "    test_image = np.array([get_image_by_label(true_cat)]*N).reshape(N, w, h, 1)\n",
    "    support_set = get_image_by_label(cats).reshape(N, w, h, 1)\n",
    "    targets = np.zeros((N,))\n",
    "    targets[0] = 1\n",
    "    \n",
    "    test_image,support_set,targets = sklearn.utils.shuffle(test_image,support_set,targets)\n",
    "    \n",
    "    return [test_image,support_set], targets"
   ]
  },
  {
   "cell_type": "code",
   "execution_count": 73,
   "metadata": {},
   "outputs": [],
   "source": [
    "def test_siamese(siamese_net, encoder, similar = None):\n",
    "    if similar == None: \n",
    "        if np.random.rand() < 1/2: return test_siamese(siamese_net, encoder, True)\n",
    "        else: return test_siamese(siamese_net, encoder, False)\n",
    "    \n",
    "    labels = np.unique(train_labels)\n",
    "    class1 = np.random.choice(labels, 1)[0]\n",
    "    class2 = class1\n",
    "    if not similar:\n",
    "        while class2 == class1:\n",
    "            class2 = np.random.choice(labels, 1)[0]\n",
    "    img1 = np.expand_dims(get_image_by_label(class1), axis=2)\n",
    "    img2 = np.expand_dims(get_image_by_label(class2), axis=2)\n",
    "    print(\"======= Testing siamese network ... =======\")\n",
    "    print(\"Class 1: \", class1)\n",
    "    print(\"Class 2: \", class2)\n",
    "    print(\"Shape: \", img1.shape)\n",
    "\n",
    "    f, axes = plt.subplots(1, 2, figsize = (10, 5))\n",
    "    axes[0].imshow(img1)\n",
    "    axes[1].imshow(img2)\n",
    "    axes[0].axis('off')\n",
    "    axes[1].axis('off')\n",
    "    \n",
    "    print(\"Similarity: \", siamese_net.predict([[img1, img2]]))\n",
    "    return siamese_net.predict([[img1, img2]])\n",
    "    \n",
    "    "
   ]
  },
  {
   "cell_type": "code",
   "execution_count": 53,
   "metadata": {},
   "outputs": [
    {
     "name": "stdout",
     "output_type": "stream",
     "text": [
      "Model: \"model_10\"\n",
      "__________________________________________________________________________________________________\n",
      " Layer (type)                   Output Shape         Param #     Connected to                     \n",
      "==================================================================================================\n",
      " input_25 (InputLayer)          [(None, 28, 28, 1)]  0           []                               \n",
      "                                                                                                  \n",
      " input_26 (InputLayer)          [(None, 28, 28, 1)]  0           []                               \n",
      "                                                                                                  \n",
      " sequential_12 (Sequential)     (None, 32)           30624       ['input_25[0][0]',               \n",
      "                                                                  'input_26[0][0]']               \n",
      "                                                                                                  \n",
      " lambda_10 (Lambda)             (None, 32)           0           ['sequential_12[0][0]',          \n",
      "                                                                  'sequential_12[1][0]']          \n",
      "                                                                                                  \n",
      " dense_21 (Dense)               (None, 1)            33          ['lambda_10[0][0]']              \n",
      "                                                                                                  \n",
      "==================================================================================================\n",
      "Total params: 30,657\n",
      "Trainable params: 30,561\n",
      "Non-trainable params: 96\n",
      "__________________________________________________________________________________________________\n"
     ]
    }
   ],
   "source": [
    "num_iterations = 700\n",
    "batch_size = 10\n",
    "\n",
    "_, w, h = train_images.shape\n",
    "\n",
    "siamese_net, encoder = get_siamese_net_and_encoder((w, h, 1))\n",
    "\n",
    "siamese_net.compile(\n",
    "    loss='binary_crossentropy',\n",
    "    optimizer='Adam',\n",
    "    metrics=['accuracy']\n",
    ")\n",
    "\n",
    "siamese_net.summary()"
   ]
  },
  {
   "cell_type": "code",
   "execution_count": 58,
   "metadata": {},
   "outputs": [],
   "source": [
    "for i in range(0, num_iterations):\n",
    "    x, y = get_train_data(batch_size)\n",
    "    siamese_net.train_on_batch(x, y)"
   ]
  },
  {
   "cell_type": "code",
   "execution_count": 59,
   "metadata": {},
   "outputs": [
    {
     "name": "stdout",
     "output_type": "stream",
     "text": [
      "Accuracy:  0.45691657238134936\n"
     ]
    }
   ],
   "source": [
    "oneshot_images_repr = encoder(oneshot_images)\n",
    "classify_images_repr = encoder(classify_images)\n",
    "\n",
    "neigh = KNeighborsClassifier(n_neighbors=1)\n",
    "neigh.fit(oneshot_images_repr, oneshot_labels)\n",
    "\n",
    "pred = neigh.predict(classify_images_repr)\n",
    "\n",
    "print(\"Accuracy: \", np.sum(pred == classify_labels)/len(classify_labels))"
   ]
  },
  {
   "cell_type": "code",
   "execution_count": 74,
   "metadata": {},
   "outputs": [
    {
     "name": "stdout",
     "output_type": "stream",
     "text": [
      "======= Testing siamese network ... =======\n",
      "Class 1:  33\n",
      "Class 2:  33\n",
      "Shape:  (28, 28, 1)\n"
     ]
    },
    {
     "ename": "ValueError",
     "evalue": "in user code:\n\n    File \"C:\\Users\\bachk_gitmnel\\AppData\\Roaming\\Python\\Python310\\site-packages\\keras\\engine\\training.py\", line 2169, in predict_function  *\n        return step_function(self, iterator)\n    File \"C:\\Users\\bachk_gitmnel\\AppData\\Roaming\\Python\\Python310\\site-packages\\keras\\engine\\training.py\", line 2155, in step_function  **\n        outputs = model.distribute_strategy.run(run_step, args=(data,))\n    File \"C:\\Users\\bachk_gitmnel\\AppData\\Roaming\\Python\\Python310\\site-packages\\keras\\engine\\training.py\", line 2143, in run_step  **\n        outputs = model.predict_step(data)\n    File \"C:\\Users\\bachk_gitmnel\\AppData\\Roaming\\Python\\Python310\\site-packages\\keras\\engine\\training.py\", line 2111, in predict_step\n        return self(x, training=False)\n    File \"C:\\Users\\bachk_gitmnel\\AppData\\Roaming\\Python\\Python310\\site-packages\\keras\\utils\\traceback_utils.py\", line 70, in error_handler\n        raise e.with_traceback(filtered_tb) from None\n    File \"C:\\Users\\bachk_gitmnel\\AppData\\Roaming\\Python\\Python310\\site-packages\\keras\\engine\\input_spec.py\", line 298, in assert_input_compatibility\n        raise ValueError(\n\n    ValueError: Exception encountered when calling layer 'model_10' (type Functional).\n    \n    Input 0 of layer \"sequential_12\" is incompatible with the layer: expected shape=(None, 28, 28, 1), found shape=(None, 28, 1, 1)\n    \n    Call arguments received by layer 'model_10' (type Functional):\n      • inputs=('tf.Tensor(shape=(None, 28, 1), dtype=float32)', 'tf.Tensor(shape=(None, 28, 1), dtype=float32)')\n      • training=False\n      • mask=None\n",
     "output_type": "error",
     "traceback": [
      "\u001b[1;31m---------------------------------------------------------------------------\u001b[0m",
      "\u001b[1;31mValueError\u001b[0m                                Traceback (most recent call last)",
      "\u001b[1;32md:\\Bach Khoa 3\\Git projects\\oneshot-learning\\EMNIST_siamese_network_methods.ipynb Cell 11\u001b[0m in \u001b[0;36m<cell line: 1>\u001b[1;34m()\u001b[0m\n\u001b[1;32m----> <a href='vscode-notebook-cell:/d%3A/Bach%20Khoa%203/Git%20projects/oneshot-learning/EMNIST_siamese_network_methods.ipynb#X16sZmlsZQ%3D%3D?line=0'>1</a>\u001b[0m test_siamese(siamese_net, encoder, similar \u001b[39m=\u001b[39;49m \u001b[39mTrue\u001b[39;49;00m)\n",
      "\u001b[1;32md:\\Bach Khoa 3\\Git projects\\oneshot-learning\\EMNIST_siamese_network_methods.ipynb Cell 11\u001b[0m in \u001b[0;36mtest_siamese\u001b[1;34m(siamese_net, encoder, similar)\u001b[0m\n\u001b[0;32m     <a href='vscode-notebook-cell:/d%3A/Bach%20Khoa%203/Git%20projects/oneshot-learning/EMNIST_siamese_network_methods.ipynb#X16sZmlsZQ%3D%3D?line=21'>22</a>\u001b[0m axes[\u001b[39m0\u001b[39m]\u001b[39m.\u001b[39maxis(\u001b[39m'\u001b[39m\u001b[39moff\u001b[39m\u001b[39m'\u001b[39m)\n\u001b[0;32m     <a href='vscode-notebook-cell:/d%3A/Bach%20Khoa%203/Git%20projects/oneshot-learning/EMNIST_siamese_network_methods.ipynb#X16sZmlsZQ%3D%3D?line=22'>23</a>\u001b[0m axes[\u001b[39m1\u001b[39m]\u001b[39m.\u001b[39maxis(\u001b[39m'\u001b[39m\u001b[39moff\u001b[39m\u001b[39m'\u001b[39m)\n\u001b[1;32m---> <a href='vscode-notebook-cell:/d%3A/Bach%20Khoa%203/Git%20projects/oneshot-learning/EMNIST_siamese_network_methods.ipynb#X16sZmlsZQ%3D%3D?line=24'>25</a>\u001b[0m \u001b[39mprint\u001b[39m(\u001b[39m\"\u001b[39m\u001b[39mSimilarity: \u001b[39m\u001b[39m\"\u001b[39m, siamese_net\u001b[39m.\u001b[39;49mpredict([img1, img2]))\n\u001b[0;32m     <a href='vscode-notebook-cell:/d%3A/Bach%20Khoa%203/Git%20projects/oneshot-learning/EMNIST_siamese_network_methods.ipynb#X16sZmlsZQ%3D%3D?line=25'>26</a>\u001b[0m \u001b[39mreturn\u001b[39;00m siamese_net\u001b[39m.\u001b[39mpredict([img1, img2])\n",
      "File \u001b[1;32m~\\AppData\\Roaming\\Python\\Python310\\site-packages\\keras\\utils\\traceback_utils.py:70\u001b[0m, in \u001b[0;36mfilter_traceback.<locals>.error_handler\u001b[1;34m(*args, **kwargs)\u001b[0m\n\u001b[0;32m     67\u001b[0m     filtered_tb \u001b[39m=\u001b[39m _process_traceback_frames(e\u001b[39m.\u001b[39m__traceback__)\n\u001b[0;32m     68\u001b[0m     \u001b[39m# To get the full stack trace, call:\u001b[39;00m\n\u001b[0;32m     69\u001b[0m     \u001b[39m# `tf.debugging.disable_traceback_filtering()`\u001b[39;00m\n\u001b[1;32m---> 70\u001b[0m     \u001b[39mraise\u001b[39;00m e\u001b[39m.\u001b[39mwith_traceback(filtered_tb) \u001b[39mfrom\u001b[39;00m \u001b[39mNone\u001b[39m\n\u001b[0;32m     71\u001b[0m \u001b[39mfinally\u001b[39;00m:\n\u001b[0;32m     72\u001b[0m     \u001b[39mdel\u001b[39;00m filtered_tb\n",
      "File \u001b[1;32mC:\\Users\\BACHK_~1\\AppData\\Local\\Temp\\__autograph_generated_file4932sb7j.py:15\u001b[0m, in \u001b[0;36mouter_factory.<locals>.inner_factory.<locals>.tf__predict_function\u001b[1;34m(iterator)\u001b[0m\n\u001b[0;32m     13\u001b[0m \u001b[39mtry\u001b[39;00m:\n\u001b[0;32m     14\u001b[0m     do_return \u001b[39m=\u001b[39m \u001b[39mTrue\u001b[39;00m\n\u001b[1;32m---> 15\u001b[0m     retval_ \u001b[39m=\u001b[39m ag__\u001b[39m.\u001b[39mconverted_call(ag__\u001b[39m.\u001b[39mld(step_function), (ag__\u001b[39m.\u001b[39mld(\u001b[39mself\u001b[39m), ag__\u001b[39m.\u001b[39mld(iterator)), \u001b[39mNone\u001b[39;00m, fscope)\n\u001b[0;32m     16\u001b[0m \u001b[39mexcept\u001b[39;00m:\n\u001b[0;32m     17\u001b[0m     do_return \u001b[39m=\u001b[39m \u001b[39mFalse\u001b[39;00m\n",
      "\u001b[1;31mValueError\u001b[0m: in user code:\n\n    File \"C:\\Users\\bachk_gitmnel\\AppData\\Roaming\\Python\\Python310\\site-packages\\keras\\engine\\training.py\", line 2169, in predict_function  *\n        return step_function(self, iterator)\n    File \"C:\\Users\\bachk_gitmnel\\AppData\\Roaming\\Python\\Python310\\site-packages\\keras\\engine\\training.py\", line 2155, in step_function  **\n        outputs = model.distribute_strategy.run(run_step, args=(data,))\n    File \"C:\\Users\\bachk_gitmnel\\AppData\\Roaming\\Python\\Python310\\site-packages\\keras\\engine\\training.py\", line 2143, in run_step  **\n        outputs = model.predict_step(data)\n    File \"C:\\Users\\bachk_gitmnel\\AppData\\Roaming\\Python\\Python310\\site-packages\\keras\\engine\\training.py\", line 2111, in predict_step\n        return self(x, training=False)\n    File \"C:\\Users\\bachk_gitmnel\\AppData\\Roaming\\Python\\Python310\\site-packages\\keras\\utils\\traceback_utils.py\", line 70, in error_handler\n        raise e.with_traceback(filtered_tb) from None\n    File \"C:\\Users\\bachk_gitmnel\\AppData\\Roaming\\Python\\Python310\\site-packages\\keras\\engine\\input_spec.py\", line 298, in assert_input_compatibility\n        raise ValueError(\n\n    ValueError: Exception encountered when calling layer 'model_10' (type Functional).\n    \n    Input 0 of layer \"sequential_12\" is incompatible with the layer: expected shape=(None, 28, 28, 1), found shape=(None, 28, 1, 1)\n    \n    Call arguments received by layer 'model_10' (type Functional):\n      • inputs=('tf.Tensor(shape=(None, 28, 1), dtype=float32)', 'tf.Tensor(shape=(None, 28, 1), dtype=float32)')\n      • training=False\n      • mask=None\n"
     ]
    },
    {
     "data": {
      "image/png": "[encoded data removed]",
      "text/plain": [
       "<Figure size 720x360 with 2 Axes>"
      ]
     },
     "metadata": {
      "needs_background": "light"
     },
     "output_type": "display_data"
    }
   ],
   "source": [
    "test_siamese(siamese_net, encoder, similar = True)"
   ]
  },
  {
   "cell_type": "code",
   "execution_count": 56,
   "metadata": {},
   "outputs": [
    {
     "name": "stdout",
     "output_type": "stream",
     "text": [
      "======= CNN ae method: Training and evaluating ... =======\n",
      "Learning background ...\n",
      "Epoch 1/10\n",
      "3000/3000 [==============================] - 32s 10ms/step - loss: 0.0212\n",
      "Epoch 2/10\n",
      "3000/3000 [==============================] - 30s 10ms/step - loss: 0.0130\n",
      "Epoch 3/10\n",
      "3000/3000 [==============================] - 29s 10ms/step - loss: 0.0118\n",
      "Epoch 4/10\n",
      "3000/3000 [==============================] - 29s 10ms/step - loss: 0.0111\n",
      "Epoch 5/10\n",
      "3000/3000 [==============================] - 30s 10ms/step - loss: 0.0107\n",
      "Epoch 6/10\n",
      "3000/3000 [==============================] - 29s 10ms/step - loss: 0.0104\n",
      "Epoch 7/10\n",
      "3000/3000 [==============================] - 29s 10ms/step - loss: 0.0102\n",
      "Epoch 8/10\n",
      "3000/3000 [==============================] - 29s 10ms/step - loss: 0.0100\n",
      "Epoch 9/10\n",
      "3000/3000 [==============================] - 29s 10ms/step - loss: 0.0099\n",
      "Epoch 10/10\n",
      "3000/3000 [==============================] - 30s 10ms/step - loss: 0.0098\n",
      "Vectorizing ...\n",
      "Learning oneshot ...\n",
      "Predicting ...\n",
      "Accuracy:  0.4513785505865539\n",
      "======= CNN ae method: Finished =======\n"
     ]
    },
    {
     "data": {
      "text/plain": [
       "0.4513785505865539"
      ]
     },
     "execution_count": 56,
     "metadata": {},
     "output_type": "execute_result"
    }
   ],
   "source": [
    "M.test_CNE(train_images, train_labels, oneshot_images, oneshot_labels, classify_images, classify_labels, 40, 32, True, 1, 28, 28, 1, 28*28)"
   ]
  }
 ],
 "metadata": {
  "kernelspec": {
   "display_name": "Python 3",
   "language": "python",
   "name": "python3"
  },
  "language_info": {
   "codemirror_mode": {
    "name": "ipython",
    "version": 3
   },
   "file_extension": ".py",
   "mimetype": "text/x-python",
   "name": "python",
   "nbconvert_exporter": "python",
   "pygments_lexer": "ipython3",
   "version": "3.10.1"
  },
  "orig_nbformat": 4
 },
 "nbformat": 4,
 "nbformat_minor": 2
}
