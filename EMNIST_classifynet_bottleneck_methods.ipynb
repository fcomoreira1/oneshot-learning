{
 "cells": [
  {
   "cell_type": "code",
   "execution_count": 1,
   "id": "f3feef94",
   "metadata": {},
   "outputs": [],
   "source": [
    "import emnist\n",
    "import numpy as np\n",
    "import matplotlib.pyplot as plt\n",
    "import tensorflow as tf\n",
    "import tensorflow.keras as keras\n",
    "import methods as M\n",
    "import sklearn\n",
    "from sklearn.decomposition import PCA\n",
    "from sklearn.neighbors import KNeighborsClassifier\n",
    "from tensorflow.keras.layers import Input, Lambda, Conv2D, MaxPooling2D, BatchNormalization, Dense, Flatten, Activation, Dropout\n",
    "from tensorflow.keras.models import Sequential, Model\n",
    "from tensorflow.keras import backend as K\n",
    "%matplotlib inline"
   ]
  },
  {
   "cell_type": "code",
   "execution_count": 2,
   "id": "aae1005e",
   "metadata": {},
   "outputs": [
    {
     "name": "stdout",
     "output_type": "stream",
     "text": [
      "======= Loading emnist data ... =======\n",
      "Output shapes:  [(24000, 28, 28), (24000,), (16800, 28, 28), (16800,)]\n",
      "Train labels:  [ 0  1  6 17 26 31 32 37 38 41]\n",
      "Test labels:  [13 15 21 24 28 43 44]\n",
      "======= Finished loading. =======\n"
     ]
    }
   ],
   "source": [
    "train_images, train_labels, oneshot_images, oneshot_labels, classify_images, classify_labels = M.get_emnist(10, 1, True, False, 7)"
   ]
  },
  {
   "cell_type": "code",
   "execution_count": 3,
   "id": "c22ac26a",
   "metadata": {},
   "outputs": [],
   "source": [
    "def emnist_nn_classifier(output):\n",
    "    \"\"\"\n",
    "    Instanciate and compiles an autoencoder, returns both the autoencoder and just the encoder\n",
    "\n",
    "    :param int or tuple input_size: shape of the input samples\n",
    "    :param int code_size: dimension on which to project the original data\n",
    "    :return: autoencoder, encoder\n",
    "    \"\"\"\n",
    "    # YOUR CODE HERE\n",
    "    encoder = keras.Sequential([\n",
    "        keras.layers.Conv2D(32, (3,3), activation='ReLU'),\n",
    "        keras.layers.MaxPool2D((2, 2)),\n",
    "        keras.layers.Conv2D(16, (3,3), activation='ReLU'),\n",
    "        keras.layers.MaxPool2D((2, 2)),\n",
    "        keras.layers.Flatten(),\n",
    "        keras.layers.Dropout(0.1),\n",
    "        keras.layers.Dense(32),\n",
    "    ])\n",
    "    \n",
    "    decoder = keras.Sequential([\n",
    "        keras.layers.Activation('ReLU'),\n",
    "        keras.layers.Dense(output, activation = 'Softmax')\n",
    "    ])\n",
    "    \n",
    "    inputs = keras.Input(shape=(28, 28, 1))\n",
    "    model = keras.Model(inputs=inputs, outputs = decoder(encoder(inputs)))\n",
    "    model.compile(optimizer='Adam', loss='sparse_categorical_crossentropy', metrics=['accuracy'])\n",
    "    return model, encoder"
   ]
  },
  {
   "cell_type": "code",
   "execution_count": 4,
   "id": "0f7e6430",
   "metadata": {},
   "outputs": [
    {
     "name": "stdout",
     "output_type": "stream",
     "text": [
      "Model: \"model\"\n",
      "_________________________________________________________________\n",
      " Layer (type)                Output Shape              Param #   \n",
      "=================================================================\n",
      " input_1 (InputLayer)        [(None, 28, 28, 1)]       0         \n",
      "                                                                 \n",
      " sequential (Sequential)     (None, 32)                17776     \n",
      "                                                                 \n",
      " sequential_1 (Sequential)   (None, 10)                330       \n",
      "                                                                 \n",
      "=================================================================\n",
      "Total params: 18,106\n",
      "Trainable params: 18,106\n",
      "Non-trainable params: 0\n",
      "_________________________________________________________________\n"
     ]
    }
   ],
   "source": [
    "model, encoder = emnist_nn_classifier(10)\n",
    "model.summary()"
   ]
  },
  {
   "cell_type": "code",
   "execution_count": 5,
   "id": "64b274bb",
   "metadata": {},
   "outputs": [],
   "source": [
    "def relabel(label):\n",
    "    labelset = np.unique(label)\n",
    "    kernel = np.zeros((np.max(labelset)+1,), dtype='int')\n",
    "    temp = np.arange(len(labelset))\n",
    "    kernel[labelset] = temp\n",
    "    return kernel[label]"
   ]
  },
  {
   "cell_type": "code",
   "execution_count": 6,
   "id": "a014849f",
   "metadata": {},
   "outputs": [
    {
     "data": {
      "text/plain": [
       "array([26, 32,  1, 17, 32, 17, 26, 17, 32, 38], dtype=uint8)"
      ]
     },
     "execution_count": 6,
     "metadata": {},
     "output_type": "execute_result"
    }
   ],
   "source": [
    "train_labels[:10]"
   ]
  },
  {
   "cell_type": "code",
   "execution_count": 7,
   "id": "45f2a70a",
   "metadata": {},
   "outputs": [
    {
     "data": {
      "text/plain": [
       "array([4, 6, 1, 3, 6, 3, 4, 3, 6, 8])"
      ]
     },
     "execution_count": 7,
     "metadata": {},
     "output_type": "execute_result"
    }
   ],
   "source": [
    "y = relabel(train_labels)\n",
    "y[:10]"
   ]
  },
  {
   "cell_type": "code",
   "execution_count": 8,
   "id": "0c03487a",
   "metadata": {
    "scrolled": true
   },
   "outputs": [
    {
     "name": "stdout",
     "output_type": "stream",
     "text": [
      "Epoch 1/5\n",
      "750/750 [==============================] - 20s 26ms/step - loss: 0.4657 - accuracy: 0.8556\n",
      "Epoch 2/5\n",
      "750/750 [==============================] - 19s 26ms/step - loss: 0.1924 - accuracy: 0.9415\n",
      "Epoch 3/5\n",
      "750/750 [==============================] - 19s 26ms/step - loss: 0.1486 - accuracy: 0.9546\n",
      "Epoch 4/5\n",
      "750/750 [==============================] - 19s 26ms/step - loss: 0.1261 - accuracy: 0.9612\n",
      "Epoch 5/5\n",
      "750/750 [==============================] - 19s 26ms/step - loss: 0.1080 - accuracy: 0.9659\n"
     ]
    },
    {
     "data": {
      "text/plain": [
       "<keras.callbacks.History at 0x15665745e70>"
      ]
     },
     "execution_count": 8,
     "metadata": {},
     "output_type": "execute_result"
    }
   ],
   "source": [
    "model.fit(train_images, y, epochs=5)"
   ]
  },
  {
   "cell_type": "code",
   "execution_count": 9,
   "id": "39289bfa",
   "metadata": {},
   "outputs": [
    {
     "data": {
      "text/plain": [
       "(7, 28, 28)"
      ]
     },
     "execution_count": 9,
     "metadata": {},
     "output_type": "execute_result"
    }
   ],
   "source": [
    "oneshot_images.shape"
   ]
  },
  {
   "cell_type": "code",
   "execution_count": 10,
   "id": "7b0e756b",
   "metadata": {},
   "outputs": [
    {
     "name": "stdout",
     "output_type": "stream",
     "text": [
      "Accuracy:  0.6252605252188412\n"
     ]
    }
   ],
   "source": [
    "oneshot_images_ = encoder(np.expand_dims(oneshot_images, axis=-1))\n",
    "classify_images_ = encoder(np.expand_dims(classify_images, axis=-1))\n",
    "nn = 1\n",
    "neigh = KNeighborsClassifier(n_neighbors = nn)\n",
    "neigh.fit(oneshot_images_, oneshot_labels)\n",
    "pred = neigh.predict(classify_images_)\n",
    "print(\"Accuracy: \", np.sum(pred == classify_labels)/len(classify_labels))"
   ]
  },
  {
   "cell_type": "code",
   "execution_count": 11,
   "id": "15b25c8c",
   "metadata": {},
   "outputs": [],
   "source": [
    "# random: 1/7 = 0.142"
   ]
  }
 ],
 "metadata": {
  "kernelspec": {
   "display_name": "Python 3 (ipykernel)",
   "language": "python",
   "name": "python3"
  },
  "language_info": {
   "codemirror_mode": {
    "name": "ipython",
    "version": 3
   },
   "file_extension": ".py",
   "mimetype": "text/x-python",
   "name": "python",
   "nbconvert_exporter": "python",
   "pygments_lexer": "ipython3",
   "version": "3.10.1"
  }
 },
 "nbformat": 4,
 "nbformat_minor": 5
}
