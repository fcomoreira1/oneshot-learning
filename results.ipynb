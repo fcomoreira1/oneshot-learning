{
 "cells": [
  {
   "cell_type": "code",
   "execution_count": 1,
   "metadata": {},
   "outputs": [],
   "source": [
    "import methods as M"
   ]
  },
  {
   "cell_type": "code",
   "execution_count": 2,
   "metadata": {},
   "outputs": [
    {
     "name": "stdout",
     "output_type": "stream",
     "text": [
      "======= PCA method: Training and evaluating... =======\n",
      "Learning background...\n",
      "Learning 1-shot and predicting...\n",
      "Accuracy for 1-shot: 0.487107723456202\n",
      "Learning 3-shot and predicting...\n",
      "Accuracy for 3-shot: 0.5156445556946183\n",
      "Learning 5-shot and predicting...\n",
      "Accuracy for 5-shot: 0.5877721443483448\n",
      "======= PCA method: Finished =======\n"
     ]
    },
    {
     "data": {
      "text/plain": [
       "[0.487107723456202, 0.5156445556946183, 0.5877721443483448]"
      ]
     },
     "execution_count": 2,
     "metadata": {},
     "output_type": "execute_result"
    }
   ],
   "source": [
    "M.test_PCA(0, 40, 7, [1, 3, 5])"
   ]
  },
  {
   "cell_type": "code",
   "execution_count": 3,
   "metadata": {},
   "outputs": [
    {
     "name": "stdout",
     "output_type": "stream",
     "text": [
      "======= LDA method: Training and evaluating... =======\n",
      "Learning background...\n",
      "Learning 1-shot and predicting...\n",
      "Accuracy for 1-shot: 0.4411361876972548\n",
      "Learning 3-shot and predicting...\n",
      "Accuracy for 3-shot: 0.4845342392276059\n",
      "Learning 5-shot and predicting...\n",
      "Accuracy for 5-shot: 0.5585445869370713\n",
      "======= LDA method: Finished =======\n"
     ]
    },
    {
     "data": {
      "text/plain": [
       "[0.4411361876972548, 0.4845342392276059, 0.5585445869370713]"
      ]
     },
     "execution_count": 3,
     "metadata": {},
     "output_type": "execute_result"
    }
   ],
   "source": [
    "M.test_LDA(0, 40, 7, [1, 3, 5])"
   ]
  }
 ],
 "metadata": {
  "kernelspec": {
   "display_name": "Python 3",
   "language": "python",
   "name": "python3"
  },
  "language_info": {
   "codemirror_mode": {
    "name": "ipython",
    "version": 3
   },
   "file_extension": ".py",
   "mimetype": "text/x-python",
   "name": "python",
   "nbconvert_exporter": "python",
   "pygments_lexer": "ipython3",
   "version": "3.11.1"
  },
  "orig_nbformat": 4
 },
 "nbformat": 4,
 "nbformat_minor": 2
}
