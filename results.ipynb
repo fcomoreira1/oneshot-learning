{
 "cells": [
  {
   "cell_type": "code",
   "execution_count": 1,
   "metadata": {},
   "outputs": [],
   "source": [
    "import methods as M"
   ]
  },
  {
   "cell_type": "code",
   "execution_count": 2,
   "metadata": {},
   "outputs": [
    {
     "name": "stdout",
     "output_type": "stream",
     "text": [
      "======= PCA method: Training and evaluating... =======\n",
      "Learning background...\n",
      "Learning 1-shot and predicting...\n",
      "Accuracy for 1-shot: 0.487107723456202\n",
      "Learning 3-shot and predicting...\n",
      "Accuracy for 3-shot: 0.5156445556946183\n",
      "Learning 5-shot and predicting...\n",
      "Accuracy for 5-shot: 0.5877721443483448\n",
      "======= PCA method: Finished =======\n"
     ]
    },
    {
     "data": {
      "text/plain": [
       "[0.487107723456202, 0.5156445556946183, 0.5877721443483448]"
      ]
     },
     "execution_count": 2,
     "metadata": {},
     "output_type": "execute_result"
    }
   ],
   "source": [
    "M.test_PCA(0, 40, 7, [1, 3, 5])"
   ]
  },
  {
   "cell_type": "code",
   "execution_count": 3,
   "metadata": {},
   "outputs": [
    {
     "name": "stdout",
     "output_type": "stream",
     "text": [
      "======= LDA method: Training and evaluating... =======\n",
      "Learning background...\n"
     ]
    },
    {
     "ename": "KeyboardInterrupt",
     "evalue": "",
     "output_type": "error",
     "traceback": [
      "\u001b[0;31m---------------------------------------------------------------------------\u001b[0m",
      "\u001b[0;31mKeyboardInterrupt\u001b[0m                         Traceback (most recent call last)",
      "Cell \u001b[0;32mIn[3], line 1\u001b[0m\n\u001b[0;32m----> 1\u001b[0m M\u001b[39m.\u001b[39;49mtest_LDA(\u001b[39m0\u001b[39;49m, \u001b[39m40\u001b[39;49m, \u001b[39m7\u001b[39;49m, [\u001b[39m1\u001b[39;49m, \u001b[39m3\u001b[39;49m, \u001b[39m5\u001b[39;49m])\n",
      "File \u001b[0;32m~/Documents/x_bachelor_program/semester4/cse204/oneshot-learning/methods.py:134\u001b[0m, in \u001b[0;36mtest_LDA\u001b[0;34m(seed, n_train_classes, n_test_classes, ns_shots, encoding_size, verbose)\u001b[0m\n\u001b[1;32m    132\u001b[0m \u001b[39mif\u001b[39;00m verbose: \u001b[39mprint\u001b[39m(\u001b[39m\"\u001b[39m\u001b[39mLearning background...\u001b[39m\u001b[39m\"\u001b[39m)\n\u001b[1;32m    133\u001b[0m lda \u001b[39m=\u001b[39m LDA(n_components\u001b[39m=\u001b[39mencoding_size)\n\u001b[0;32m--> 134\u001b[0m lda\u001b[39m.\u001b[39;49mfit(X\u001b[39m=\u001b[39;49mtrain_images, y\u001b[39m=\u001b[39;49mtrain_labels)\n\u001b[1;32m    136\u001b[0m accuracies \u001b[39m=\u001b[39m [\u001b[39mNone\u001b[39;00m] \u001b[39m*\u001b[39m \u001b[39mlen\u001b[39m(ns_shots)\n\u001b[1;32m    137\u001b[0m \u001b[39mfor\u001b[39;00m i, n_shots \u001b[39min\u001b[39;00m \u001b[39menumerate\u001b[39m(ns_shots):\n",
      "File \u001b[0;32m/opt/homebrew/lib/python3.11/site-packages/sklearn/discriminant_analysis.py:622\u001b[0m, in \u001b[0;36mLinearDiscriminantAnalysis.fit\u001b[0;34m(self, X, y)\u001b[0m\n\u001b[1;32m    616\u001b[0m     \u001b[39mif\u001b[39;00m \u001b[39mself\u001b[39m\u001b[39m.\u001b[39mcovariance_estimator \u001b[39mis\u001b[39;00m \u001b[39mnot\u001b[39;00m \u001b[39mNone\u001b[39;00m:\n\u001b[1;32m    617\u001b[0m         \u001b[39mraise\u001b[39;00m \u001b[39mValueError\u001b[39;00m(\n\u001b[1;32m    618\u001b[0m             \u001b[39m\"\u001b[39m\u001b[39mcovariance estimator \u001b[39m\u001b[39m\"\u001b[39m\n\u001b[1;32m    619\u001b[0m             \u001b[39m\"\u001b[39m\u001b[39mis not supported \u001b[39m\u001b[39m\"\u001b[39m\n\u001b[1;32m    620\u001b[0m             \u001b[39m\"\u001b[39m\u001b[39mwith svd solver. Try another solver\u001b[39m\u001b[39m\"\u001b[39m\n\u001b[1;32m    621\u001b[0m         )\n\u001b[0;32m--> 622\u001b[0m     \u001b[39mself\u001b[39;49m\u001b[39m.\u001b[39;49m_solve_svd(X, y)\n\u001b[1;32m    623\u001b[0m \u001b[39melif\u001b[39;00m \u001b[39mself\u001b[39m\u001b[39m.\u001b[39msolver \u001b[39m==\u001b[39m \u001b[39m\"\u001b[39m\u001b[39mlsqr\u001b[39m\u001b[39m\"\u001b[39m:\n\u001b[1;32m    624\u001b[0m     \u001b[39mself\u001b[39m\u001b[39m.\u001b[39m_solve_lstsq(\n\u001b[1;32m    625\u001b[0m         X,\n\u001b[1;32m    626\u001b[0m         y,\n\u001b[1;32m    627\u001b[0m         shrinkage\u001b[39m=\u001b[39m\u001b[39mself\u001b[39m\u001b[39m.\u001b[39mshrinkage,\n\u001b[1;32m    628\u001b[0m         covariance_estimator\u001b[39m=\u001b[39m\u001b[39mself\u001b[39m\u001b[39m.\u001b[39mcovariance_estimator,\n\u001b[1;32m    629\u001b[0m     )\n",
      "File \u001b[0;32m/opt/homebrew/lib/python3.11/site-packages/sklearn/discriminant_analysis.py:518\u001b[0m, in \u001b[0;36mLinearDiscriminantAnalysis._solve_svd\u001b[0;34m(self, X, y)\u001b[0m\n\u001b[1;32m    516\u001b[0m X \u001b[39m=\u001b[39m xp\u001b[39m.\u001b[39msqrt(fac) \u001b[39m*\u001b[39m (Xc \u001b[39m/\u001b[39m std)\n\u001b[1;32m    517\u001b[0m \u001b[39m# SVD of centered (within)scaled data\u001b[39;00m\n\u001b[0;32m--> 518\u001b[0m U, S, Vt \u001b[39m=\u001b[39m svd(X, full_matrices\u001b[39m=\u001b[39;49m\u001b[39mFalse\u001b[39;49;00m)\n\u001b[1;32m    520\u001b[0m rank \u001b[39m=\u001b[39m xp\u001b[39m.\u001b[39msum(xp\u001b[39m.\u001b[39mastype(S \u001b[39m>\u001b[39m \u001b[39mself\u001b[39m\u001b[39m.\u001b[39mtol, xp\u001b[39m.\u001b[39mint32))\n\u001b[1;32m    521\u001b[0m \u001b[39m# Scaling of within covariance is: V' 1/S\u001b[39;00m\n",
      "File \u001b[0;32m/opt/homebrew/lib/python3.11/site-packages/scipy/linalg/_decomp_svd.py:127\u001b[0m, in \u001b[0;36msvd\u001b[0;34m(a, full_matrices, compute_uv, overwrite_a, check_finite, lapack_driver)\u001b[0m\n\u001b[1;32m    123\u001b[0m lwork \u001b[39m=\u001b[39m _compute_lwork(gesXd_lwork, a1\u001b[39m.\u001b[39mshape[\u001b[39m0\u001b[39m], a1\u001b[39m.\u001b[39mshape[\u001b[39m1\u001b[39m],\n\u001b[1;32m    124\u001b[0m                        compute_uv\u001b[39m=\u001b[39mcompute_uv, full_matrices\u001b[39m=\u001b[39mfull_matrices)\n\u001b[1;32m    126\u001b[0m \u001b[39m# perform decomposition\u001b[39;00m\n\u001b[0;32m--> 127\u001b[0m u, s, v, info \u001b[39m=\u001b[39m gesXd(a1, compute_uv\u001b[39m=\u001b[39;49mcompute_uv, lwork\u001b[39m=\u001b[39;49mlwork,\n\u001b[1;32m    128\u001b[0m                       full_matrices\u001b[39m=\u001b[39;49mfull_matrices, overwrite_a\u001b[39m=\u001b[39;49moverwrite_a)\n\u001b[1;32m    130\u001b[0m \u001b[39mif\u001b[39;00m info \u001b[39m>\u001b[39m \u001b[39m0\u001b[39m:\n\u001b[1;32m    131\u001b[0m     \u001b[39mraise\u001b[39;00m LinAlgError(\u001b[39m\"\u001b[39m\u001b[39mSVD did not converge\u001b[39m\u001b[39m\"\u001b[39m)\n",
      "\u001b[0;31mKeyboardInterrupt\u001b[0m: "
     ]
    }
   ],
   "source": [
    "M.test_LDA(0, 40, 7, [1, 3, 5])"
   ]
  },
  {
   "cell_type": "code",
   "execution_count": 2,
   "metadata": {},
   "outputs": [
    {
     "name": "stdout",
     "output_type": "stream",
     "text": [
      "======= Nonlinear autoencoder method: Training and evaluating... =======\n",
      "Learning background...\n",
      "Epoch 1/15\n",
      "3000/3000 [==============================] - 5s 2ms/step - loss: 0.0312\n",
      "Epoch 2/15\n",
      "3000/3000 [==============================] - 5s 2ms/step - loss: 0.0237\n",
      "Epoch 3/15\n",
      "3000/3000 [==============================] - 5s 2ms/step - loss: 0.0222\n",
      "Epoch 4/15\n",
      "3000/3000 [==============================] - 4s 1ms/step - loss: 0.0214\n",
      "Epoch 5/15\n",
      "3000/3000 [==============================] - 4s 1ms/step - loss: 0.0208\n",
      "Epoch 6/15\n",
      "3000/3000 [==============================] - 4s 1ms/step - loss: 0.0204\n",
      "Epoch 7/15\n",
      "3000/3000 [==============================] - 5s 2ms/step - loss: 0.0201\n",
      "Epoch 8/15\n",
      "3000/3000 [==============================] - 4s 1ms/step - loss: 0.0199\n",
      "Epoch 9/15\n",
      "3000/3000 [==============================] - 5s 2ms/step - loss: 0.0196\n",
      "Epoch 10/15\n",
      "3000/3000 [==============================] - 5s 2ms/step - loss: 0.0195\n",
      "Epoch 11/15\n",
      "3000/3000 [==============================] - 4s 1ms/step - loss: 0.0193\n",
      "Epoch 12/15\n",
      "3000/3000 [==============================] - 4s 1ms/step - loss: 0.0192\n",
      "Epoch 13/15\n",
      "3000/3000 [==============================] - 5s 2ms/step - loss: 0.0191\n",
      "Epoch 14/15\n",
      "3000/3000 [==============================] - 4s 1ms/step - loss: 0.0190\n",
      "Epoch 15/15\n",
      "3000/3000 [==============================] - 5s 2ms/step - loss: 0.0189\n",
      "Learning 1-shot and predicting...\n",
      "Accuracy for 1-shot: 0.5135473113797415\n",
      "Learning 3-shot and predicting...\n",
      "Accuracy for 3-shot: 0.5216639847428333\n",
      "Learning 5-shot and predicting...\n",
      "Accuracy for 5-shot: 0.5757828810020876\n",
      "======= Nonlinear autoencoder method: Finished =======\n"
     ]
    },
    {
     "data": {
      "text/plain": [
       "[0.5135473113797415, 0.5216639847428333, 0.5757828810020876]"
      ]
     },
     "execution_count": 2,
     "metadata": {},
     "output_type": "execute_result"
    }
   ],
   "source": [
    "M.test_NLAE(0, 40, 7, [1, 3, 5])"
   ]
  },
  {
   "cell_type": "code",
   "execution_count": null,
   "metadata": {},
   "outputs": [
    {
     "name": "stdout",
     "output_type": "stream",
     "text": [
      "======= Nonlinear autoencoder with CNN encoder method: Training and evaluating... =======\n",
      "Learning background...\n",
      "Epoch 1/10\n",
      "3000/3000 [==============================] - 27s 9ms/step - loss: 0.0325\n",
      "Epoch 2/10\n",
      "3000/3000 [==============================] - 28s 9ms/step - loss: 0.0187\n",
      "Epoch 3/10\n",
      "3000/3000 [==============================] - 30s 10ms/step - loss: 0.0174\n",
      "Epoch 4/10\n",
      "3000/3000 [==============================] - 28s 9ms/step - loss: 0.0168\n",
      "Epoch 5/10\n",
      "3000/3000 [==============================] - 29s 10ms/step - loss: 0.0164\n",
      "Epoch 6/10\n",
      "3000/3000 [==============================] - 26s 9ms/step - loss: 0.0162\n",
      "Epoch 7/10\n",
      "3000/3000 [==============================] - 25s 8ms/step - loss: 0.0160\n",
      "Epoch 8/10\n",
      "3000/3000 [==============================] - 24s 8ms/step - loss: 0.0159\n",
      "Epoch 9/10\n",
      "3000/3000 [==============================] - 24s 8ms/step - loss: 0.0158\n",
      "Epoch 10/10\n",
      "3000/3000 [==============================] - 23s 8ms/step - loss: 0.0157\n",
      "Learning 1-shot and predicting...\n",
      "Accuracy for 1-shot: 0.5331388078365986\n",
      "Learning 3-shot and predicting...\n",
      "Accuracy for 3-shot: 0.5784015733953156\n",
      "Learning 5-shot and predicting...\n",
      "Accuracy for 5-shot: 0.6493289591410677\n",
      "======= Nonlinear autoencoder method: Finished =======\n"
     ]
    },
    {
     "data": {
      "text/plain": [
       "[0.5331388078365986, 0.5784015733953156, 0.6493289591410677]"
      ]
     },
     "execution_count": 5,
     "metadata": {},
     "output_type": "execute_result"
    }
   ],
   "source": [
    "M.test_NLAE_CNNE(0, 40, 7, [1, 3, 5])"
   ]
  },
  {
   "cell_type": "code",
   "execution_count": 2,
   "metadata": {},
   "outputs": [
    {
     "name": "stdout",
     "output_type": "stream",
     "text": [
      "======= Siamese network method: Training and evaluating... =======\n",
      "Learning background...\n",
      "Learning 1-shot and predicting...\n",
      "Accuracy for 1-shot: 0.5982849997022569\n",
      "Learning 3-shot and predicting...\n",
      "Accuracy for 3-shot: 0.6675010429703796\n",
      "Learning 5-shot and predicting...\n",
      "Accuracy for 5-shot: 0.6958544586937071\n",
      "======= Nonlinear autoencoder method: Finished =======\n"
     ]
    },
    {
     "data": {
      "text/plain": [
       "[0.5982849997022569, 0.6675010429703796, 0.6958544586937071]"
      ]
     },
     "execution_count": 2,
     "metadata": {},
     "output_type": "execute_result"
    }
   ],
   "source": [
    "M.test_SN(0, 40, 7, [1, 3, 5], 2000)"
   ]
  }
 ],
 "metadata": {
  "kernelspec": {
   "display_name": "Python 3",
   "language": "python",
   "name": "python3"
  },
  "language_info": {
   "codemirror_mode": {
    "name": "ipython",
    "version": 3
   },
   "file_extension": ".py",
   "mimetype": "text/x-python",
   "name": "python",
   "nbconvert_exporter": "python",
   "pygments_lexer": "ipython3",
   "version": "3.11.1"
  },
  "orig_nbformat": 4
 },
 "nbformat": 4,
 "nbformat_minor": 2
}
