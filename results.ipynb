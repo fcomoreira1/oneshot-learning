{
 "cells": [
  {
   "cell_type": "code",
   "execution_count": 1,
   "metadata": {},
   "outputs": [],
   "source": [
    "import methods as M"
   ]
  },
  {
   "cell_type": "code",
   "execution_count": 2,
   "metadata": {},
   "outputs": [],
   "source": [
    "# M.test_PCA(0, 40, 7, [1, 3, 5])"
   ]
  },
  {
   "cell_type": "code",
   "execution_count": 3,
   "metadata": {},
   "outputs": [],
   "source": [
    "# M.test_LDA(0, 40, 7, [1, 3, 5])"
   ]
  },
  {
   "cell_type": "code",
   "execution_count": 4,
   "metadata": {},
   "outputs": [
    {
     "name": "stdout",
     "output_type": "stream",
     "text": [
      "======= Nonlinear autoencoder method: Training and evaluating... =======\n",
      "Learning background...\n",
      "Epoch 1/10\n",
      "3000/3000 [==============================] - 4s 1ms/step - loss: 0.0329\n",
      "Epoch 2/10\n",
      "3000/3000 [==============================] - 4s 1ms/step - loss: 0.0257\n",
      "Epoch 3/10\n",
      "3000/3000 [==============================] - 4s 1ms/step - loss: 0.0235\n",
      "Epoch 4/10\n",
      "3000/3000 [==============================] - 4s 1ms/step - loss: 0.0219\n",
      "Epoch 5/10\n",
      "3000/3000 [==============================] - 4s 1ms/step - loss: 0.0211\n",
      "Epoch 6/10\n",
      "3000/3000 [==============================] - 4s 1ms/step - loss: 0.0207\n",
      "Epoch 7/10\n",
      "3000/3000 [==============================] - 4s 1ms/step - loss: 0.0203\n",
      "Epoch 8/10\n",
      "3000/3000 [==============================] - 4s 1ms/step - loss: 0.0201\n",
      "Epoch 9/10\n",
      "3000/3000 [==============================] - 4s 1ms/step - loss: 0.0199\n",
      "Epoch 10/10\n",
      "3000/3000 [==============================] - 4s 1ms/step - loss: 0.0197\n",
      "Learning 1-shot and predicting...\n",
      "Accuracy for 1-shot: 0.5066396712916096\n",
      "Learning 3-shot and predicting...\n",
      "Accuracy for 3-shot: 0.5184456761427976\n",
      "Learning 5-shot and predicting...\n",
      "Accuracy for 5-shot: 0.5746495675514465\n",
      "======= Nonlinear autoencoder method: Finished =======\n"
     ]
    },
    {
     "data": {
      "text/plain": [
       "[0.5066396712916096, 0.5184456761427976, 0.5746495675514465]"
      ]
     },
     "execution_count": 4,
     "metadata": {},
     "output_type": "execute_result"
    }
   ],
   "source": [
    "M.test_NLAE(0, 40, 7, [1, 3, 5])"
   ]
  },
  {
   "cell_type": "code",
   "execution_count": 5,
   "metadata": {},
   "outputs": [
    {
     "name": "stdout",
     "output_type": "stream",
     "text": [
      "======= Nonlinear autoencoder with CNN encoder method: Training and evaluating... =======\n",
      "Learning background...\n",
      "Epoch 1/10\n",
      "3000/3000 [==============================] - 16s 5ms/step - loss: 0.0212\n",
      "Epoch 2/10\n",
      "3000/3000 [==============================] - 15s 5ms/step - loss: 0.0130\n",
      "Epoch 3/10\n",
      "3000/3000 [==============================] - 16s 5ms/step - loss: 0.0117\n",
      "Epoch 4/10\n",
      "3000/3000 [==============================] - 15s 5ms/step - loss: 0.0111\n",
      "Epoch 5/10\n",
      "3000/3000 [==============================] - 16s 5ms/step - loss: 0.0107\n",
      "Epoch 6/10\n",
      "3000/3000 [==============================] - 16s 5ms/step - loss: 0.0104\n",
      "Epoch 7/10\n",
      "3000/3000 [==============================] - 16s 5ms/step - loss: 0.0102\n",
      "Epoch 8/10\n",
      "3000/3000 [==============================] - 16s 5ms/step - loss: 0.0100\n",
      "Epoch 9/10\n",
      "3000/3000 [==============================] - 15s 5ms/step - loss: 0.0099\n",
      "Epoch 10/10\n",
      "3000/3000 [==============================] - 15s 5ms/step - loss: 0.0098\n",
      "Learning 1-shot and predicting...\n",
      "Accuracy for 1-shot: 0.5432620734829988\n",
      "Learning 3-shot and predicting...\n",
      "Accuracy for 3-shot: 0.5724417426545086\n",
      "Learning 5-shot and predicting...\n",
      "Accuracy for 5-shot: 0.6572025052192066\n",
      "======= Nonlinear autoencoder method: Finished =======\n"
     ]
    },
    {
     "data": {
      "text/plain": [
       "[0.5432620734829988, 0.5724417426545086, 0.6572025052192066]"
      ]
     },
     "execution_count": 5,
     "metadata": {},
     "output_type": "execute_result"
    }
   ],
   "source": [
    "M.test_NLAE_CNNE(0, 40, 7, [1, 3, 5])"
   ]
  }
 ],
 "metadata": {
  "kernelspec": {
   "display_name": "Python 3",
   "language": "python",
   "name": "python3"
  },
  "language_info": {
   "codemirror_mode": {
    "name": "ipython",
    "version": 3
   },
   "file_extension": ".py",
   "mimetype": "text/x-python",
   "name": "python",
   "nbconvert_exporter": "python",
   "pygments_lexer": "ipython3",
   "version": "3.11.1"
  },
  "orig_nbformat": 4
 },
 "nbformat": 4,
 "nbformat_minor": 2
}
