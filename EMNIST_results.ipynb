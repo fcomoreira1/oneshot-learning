{
 "cells": [
  {
   "cell_type": "code",
   "execution_count": 2,
   "metadata": {},
   "outputs": [],
   "source": [
    "import methods as M"
   ]
  },
  {
   "cell_type": "code",
   "execution_count": 2,
   "metadata": {},
   "outputs": [
    {
     "name": "stdout",
     "output_type": "stream",
     "text": [
      "======= PCA method: Training and evaluating... =======\n",
      "Learning background...\n",
      "Learning 1-shot and predicting...\n",
      "Accuracy for 1-shot: 0.487107723456202\n",
      "Learning 3-shot and predicting...\n",
      "Accuracy for 3-shot: 0.5156445556946183\n",
      "Learning 5-shot and predicting...\n",
      "Accuracy for 5-shot: 0.5877721443483448\n",
      "======= PCA method: Finished =======\n"
     ]
    },
    {
     "data": {
      "text/plain": [
       "[0.487107723456202, 0.5156445556946183, 0.5877721443483448]"
      ]
     },
     "execution_count": 2,
     "metadata": {},
     "output_type": "execute_result"
    }
   ],
   "source": [
    "M.test_PCA(0, 40, 7, [1, 3, 5])"
   ]
  },
  {
   "cell_type": "code",
   "execution_count": 3,
   "metadata": {},
   "outputs": [
    {
     "name": "stdout",
     "output_type": "stream",
     "text": [
      "======= LDA method: Training and evaluating... =======\n",
      "Learning background...\n",
      "Learning 1-shot and predicting...\n",
      "Accuracy for 1-shot: 0.4411361876972548\n",
      "Learning 3-shot and predicting...\n",
      "Accuracy for 3-shot: 0.4845342392276059\n",
      "Learning 5-shot and predicting...\n",
      "Accuracy for 5-shot: 0.5585445869370713\n",
      "======= LDA method: Finished =======\n"
     ]
    },
    {
     "data": {
      "text/plain": [
       "[0.4411361876972548, 0.4845342392276059, 0.5585445869370713]"
      ]
     },
     "execution_count": 3,
     "metadata": {},
     "output_type": "execute_result"
    }
   ],
   "source": [
    "M.test_LDA(0, 40, 7, [1, 3, 5])"
   ]
  },
  {
   "cell_type": "code",
   "execution_count": 5,
   "metadata": {},
   "outputs": [
    {
     "name": "stdout",
     "output_type": "stream",
     "text": [
      "======= Nonlinear autoencoder method: Training and evaluating... =======\n",
      "Learning background...\n",
      "Epoch 1/15\n",
      "3000/3000 [==============================] - 7s 2ms/step - loss: 0.0316\n",
      "Epoch 2/15\n",
      "3000/3000 [==============================] - 7s 2ms/step - loss: 0.0248\n",
      "Epoch 3/15\n",
      "3000/3000 [==============================] - 7s 2ms/step - loss: 0.0233\n",
      "Epoch 4/15\n",
      "3000/3000 [==============================] - 6s 2ms/step - loss: 0.0224\n",
      "Epoch 5/15\n",
      "3000/3000 [==============================] - 6s 2ms/step - loss: 0.0214\n",
      "Epoch 6/15\n",
      "3000/3000 [==============================] - 6s 2ms/step - loss: 0.0206\n",
      "Epoch 7/15\n",
      "3000/3000 [==============================] - 6s 2ms/step - loss: 0.0203\n",
      "Epoch 8/15\n",
      "3000/3000 [==============================] - 6s 2ms/step - loss: 0.0200\n",
      "Epoch 9/15\n",
      "3000/3000 [==============================] - 6s 2ms/step - loss: 0.0198\n",
      "Epoch 10/15\n",
      "3000/3000 [==============================] - 6s 2ms/step - loss: 0.0196\n",
      "Epoch 11/15\n",
      "3000/3000 [==============================] - 6s 2ms/step - loss: 0.0195\n",
      "Epoch 12/15\n",
      "3000/3000 [==============================] - 6s 2ms/step - loss: 0.0194\n",
      "Epoch 13/15\n",
      "3000/3000 [==============================] - 6s 2ms/step - loss: 0.0193\n",
      "Epoch 14/15\n",
      "3000/3000 [==============================] - 6s 2ms/step - loss: 0.0192\n",
      "Epoch 15/15\n",
      "3000/3000 [==============================] - 6s 2ms/step - loss: 0.0191\n",
      "Learning 1-shot and predicting...\n",
      "Accuracy for 1-shot: 0.5023521705472518\n",
      "Learning 3-shot and predicting...\n",
      "Accuracy for 3-shot: 0.5177900947613088\n",
      "Learning 5-shot and predicting...\n",
      "Accuracy for 5-shot: 0.5811512078735461\n",
      "======= Nonlinear autoencoder method: Finished =======\n"
     ]
    },
    {
     "data": {
      "text/plain": [
       "[0.5023521705472518, 0.5177900947613088, 0.5811512078735461]"
      ]
     },
     "execution_count": 5,
     "metadata": {},
     "output_type": "execute_result"
    }
   ],
   "source": [
    "M.test_NLAE(0, 40, 7, [1, 3, 5])"
   ]
  },
  {
   "cell_type": "code",
   "execution_count": 4,
   "metadata": {},
   "outputs": [
    {
     "name": "stdout",
     "output_type": "stream",
     "text": [
      "======= Nonlinear autoencoder with CNN encoder method: Training and evaluating... =======\n",
      "Learning background...\n",
      "Epoch 1/15\n",
      "3000/3000 [==============================] - 36s 12ms/step - loss: 0.0335\n",
      "Epoch 2/15\n",
      "3000/3000 [==============================] - 34s 11ms/step - loss: 0.0193\n",
      "Epoch 3/15\n",
      "3000/3000 [==============================] - 34s 11ms/step - loss: 0.0178\n",
      "Epoch 4/15\n",
      "3000/3000 [==============================] - 35s 12ms/step - loss: 0.0171\n",
      "Epoch 5/15\n",
      "3000/3000 [==============================] - 35s 12ms/step - loss: 0.0167\n",
      "Epoch 6/15\n",
      "3000/3000 [==============================] - 35s 12ms/step - loss: 0.0164\n",
      "Epoch 7/15\n",
      "3000/3000 [==============================] - 36s 12ms/step - loss: 0.0162\n",
      "Epoch 8/15\n",
      "3000/3000 [==============================] - 35s 12ms/step - loss: 0.0160\n",
      "Epoch 9/15\n",
      "3000/3000 [==============================] - 36s 12ms/step - loss: 0.0159\n",
      "Epoch 10/15\n",
      "3000/3000 [==============================] - 35s 12ms/step - loss: 0.0158\n",
      "Epoch 11/15\n",
      "3000/3000 [==============================] - 35s 12ms/step - loss: 0.0157\n",
      "Epoch 12/15\n",
      "3000/3000 [==============================] - 36s 12ms/step - loss: 0.0156\n",
      "Epoch 13/15\n",
      "3000/3000 [==============================] - 35s 12ms/step - loss: 0.0156\n",
      "Epoch 14/15\n",
      "3000/3000 [==============================] - 36s 12ms/step - loss: 0.0155\n",
      "Epoch 15/15\n",
      "3000/3000 [==============================] - 35s 12ms/step - loss: 0.0154\n",
      "Learning 1-shot and predicting...\n",
      "Accuracy for 1-shot: 0.5139641517298874\n",
      "Learning 3-shot and predicting...\n",
      "Accuracy for 3-shot: 0.5547410453543119\n",
      "Learning 5-shot and predicting...\n",
      "Accuracy for 5-shot: 0.6353116611989263\n",
      "======= Nonlinear autoencoder with CNN encoder method: Finished =======\n"
     ]
    },
    {
     "data": {
      "text/plain": [
       "[0.5139641517298874, 0.5547410453543119, 0.6353116611989263]"
      ]
     },
     "execution_count": 4,
     "metadata": {},
     "output_type": "execute_result"
    }
   ],
   "source": [
    "M.test_NLAE_CNNE(0, 40, 7, [1, 3, 5])"
   ]
  },
  {
   "cell_type": "code",
   "execution_count": 6,
   "metadata": {},
   "outputs": [
    {
     "name": "stdout",
     "output_type": "stream",
     "text": [
      "======= Siamese network method: Training and evaluating... =======\n",
      "Learning background...\n",
      "Learning 1-shot and predicting...\n",
      "Accuracy for 1-shot: 0.5956053117370332\n",
      "Learning 3-shot and predicting...\n",
      "Accuracy for 3-shot: 0.6809702604446034\n",
      "Learning 5-shot and predicting...\n",
      "Accuracy for 5-shot: 0.7265732180137191\n",
      "======= Siamese network method: Finished =======\n"
     ]
    },
    {
     "data": {
      "text/plain": [
       "[0.5956053117370332, 0.6809702604446034, 0.7265732180137191]"
      ]
     },
     "execution_count": 6,
     "metadata": {},
     "output_type": "execute_result"
    }
   ],
   "source": [
    "M.test_SN(0, 40, 7, [1, 3, 5], n_iterations=4000)"
   ]
  },
  {
   "cell_type": "code",
   "execution_count": 5,
   "metadata": {},
   "outputs": [
    {
     "name": "stdout",
     "output_type": "stream",
     "text": [
      "======= Siamese network with triplet loss method: Training and evaluating... =======\n",
      "Learning background...\n",
      "Learning 1-shot and predicting...\n",
      "Accuracy for 1-shot: 0.6534865717858631\n",
      "Learning 3-shot and predicting...\n",
      "Accuracy for 3-shot: 0.7348471303414983\n",
      "Learning 5-shot and predicting...\n",
      "Accuracy for 5-shot: 0.7427378467044438\n",
      "======= Siamese network with triplet loss method: Finished =======\n"
     ]
    },
    {
     "data": {
      "text/plain": [
       "[0.6534865717858631, 0.7348471303414983, 0.7427378467044438]"
      ]
     },
     "execution_count": 5,
     "metadata": {},
     "output_type": "execute_result"
    }
   ],
   "source": [
    "M.test_SN_TL(0, 40, 7, [1, 3, 5], n_iterations=7000)"
   ]
  }
 ],
 "metadata": {
  "kernelspec": {
   "display_name": "Python 3",
   "language": "python",
   "name": "python3"
  },
  "language_info": {
   "codemirror_mode": {
    "name": "ipython",
    "version": 3
   },
   "file_extension": ".py",
   "mimetype": "text/x-python",
   "name": "python",
   "nbconvert_exporter": "python",
   "pygments_lexer": "ipython3",
   "version": "3.11.1"
  },
  "orig_nbformat": 4
 },
 "nbformat": 4,
 "nbformat_minor": 2
}
